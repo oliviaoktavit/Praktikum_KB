{
 "cells": [
  {
   "cell_type": "code",
   "execution_count": 14,
   "id": "56eb711f-15bf-4932-a98c-63c24a5a0214",
   "metadata": {},
   "outputs": [],
   "source": [
    "import os\n",
    "import numpy as np\n",
    "import tensorflow as tf\n",
    "import matplotlib.pyplot as plt\n",
    "\n",
    "from tensorflow.keras import datasets"
   ]
  },
  {
   "cell_type": "markdown",
   "id": "701dc277",
   "metadata": {},
   "source": [
    "# Regression DNN\n"
   ]
  },
  {
   "cell_type": "code",
   "execution_count": 15,
   "id": "2af1ca77",
   "metadata": {},
   "outputs": [],
   "source": [
    "# Membuat Data\n",
    "x = np.array([1,2,3,4,5,6], dtype=float)\n",
    "y = np.array([3,6,9,12,15,18], dtype=float)\n"
   ]
  },
  {
   "cell_type": "markdown",
   "id": "fde535ee",
   "metadata": {},
   "source": [
    "# Membuat Squential Model"
   ]
  },
  {
   "cell_type": "markdown",
   "id": "993e49eb",
   "metadata": {},
   "source": [
    "#### Membuat Arsitektur"
   ]
  },
  {
   "cell_type": "code",
   "execution_count": 16,
   "id": "fb2ea627",
   "metadata": {},
   "outputs": [],
   "source": [
    "model = tf.keras.Sequential([\n",
    "    tf.keras.layers.Dense(units=1, input_shape=[1])\n",
    "])"
   ]
  },
  {
   "cell_type": "markdown",
   "id": "aa8267eb",
   "metadata": {},
   "source": [
    "#### Menconfigurasi Model"
   ]
  },
  {
   "cell_type": "code",
   "execution_count": 17,
   "id": "17de31f2",
   "metadata": {},
   "outputs": [],
   "source": [
    "model.compile(optimizer='sgd', loss='mean_squared_error')"
   ]
  },
  {
   "cell_type": "markdown",
   "id": "8fc975d7",
   "metadata": {},
   "source": [
    "#### Melatih Model"
   ]
  },
  {
   "cell_type": "code",
   "execution_count": 34,
   "id": "765f4fea",
   "metadata": {},
   "outputs": [
    {
     "name": "stdout",
     "output_type": "stream",
     "text": [
      "Epoch 1/400\n",
      "19/19 [==============================] - 0s 2ms/step - loss: 9.5096e-05\n"
     ]
    },
    {
     "data": {
      "text/plain": [
       "<keras.callbacks.History at 0x20ec70b0520>"
      ]
     },
     "execution_count": 34,
     "metadata": {},
     "output_type": "execute_result"
    }
   ],
   "source": [
    "class myCallback(tf.keras.callbacks.Callback):\n",
    "    def on_epoch_end(self, epoch, logs={}):\n",
    "        if(logs.get('loss') < 1e-4):\n",
    "            self.model.stop_training = True\n",
    "\n",
    "cb = myCallback()\n",
    "\n",
    "model.fit(x,y, epochs=400, steps_per_epoch=19, callbacks=cb)"
   ]
  },
  {
   "cell_type": "markdown",
   "id": "7a0294af",
   "metadata": {},
   "source": [
    "# Mengambil Data Menist"
   ]
  },
  {
   "cell_type": "code",
   "execution_count": 41,
   "id": "e9b005b8",
   "metadata": {},
   "outputs": [],
   "source": [
    "(x_train_raw, y_train_raw), (x_test_raw, y_test_raw) = datasets.mnist.load_data()"
   ]
  },
  {
   "cell_type": "code",
   "execution_count": 42,
   "id": "53a8087f",
   "metadata": {},
   "outputs": [
    {
     "name": "stdout",
     "output_type": "stream",
     "text": [
      "5\n",
      "(60000, 28, 28)\n",
      "(10000, 28, 28)\n"
     ]
    }
   ],
   "source": [
    "print(y_train_raw[0])\n",
    "print(x_train_raw.shape)\n",
    "print(x_test_raw.shape)"
   ]
  },
  {
   "cell_type": "markdown",
   "id": "9a99bdb3",
   "metadata": {},
   "source": [
    "# Encoding Lable"
   ]
  },
  {
   "cell_type": "code",
   "execution_count": 43,
   "id": "72bc7420",
   "metadata": {},
   "outputs": [
    {
     "name": "stdout",
     "output_type": "stream",
     "text": [
      "[0. 0. 0. 0. 0. 1. 0. 0. 0. 0.]\n"
     ]
    }
   ],
   "source": [
    "num_classes = 10\n",
    "y_train = tf.keras.utils.to_categorical(y_train_raw, num_classes)\n",
    "y_test = tf.keras.utils.to_categorical(y_test_raw, num_classes)\n",
    "print(y_train[0])"
   ]
  },
  {
   "cell_type": "code",
   "execution_count": 44,
   "id": "66e253c8",
   "metadata": {},
   "outputs": [
    {
     "data": {
      "image/png": "[encoded data removed]",
      "text/plain": [
       "<Figure size 640x480 with 9 Axes>"
      ]
     },
     "metadata": {},
     "output_type": "display_data"
    }
   ],
   "source": [
    "plt.figure()\n",
    "for i in range(9):\n",
    "    plt.subplot(3,3,i+1)\n",
    "    plt.imshow(x_train_raw[i])\n",
    "    plt.axis('off')\n",
    "plt.show()"
   ]
  },
  {
   "cell_type": "code",
   "execution_count": 47,
   "id": "4fd20476",
   "metadata": {},
   "outputs": [],
   "source": [
    "x_train = x_train_raw.reshape(60000, 784)\n",
    "x_test = x_test_raw.reshape(10000, 784)"
   ]
  },
  {
   "cell_type": "code",
   "execution_count": 48,
   "id": "fe4b0864",
   "metadata": {},
   "outputs": [
    {
     "name": "stdout",
     "output_type": "stream",
     "text": [
      "Model: \"sequential_3\"\n",
      "_________________________________________________________________\n",
      " Layer (type)                Output Shape              Param #   \n",
      "=================================================================\n",
      " dense_7 (Dense)             (None, 512)               401920    \n",
      "                                                                 \n",
      " dense_8 (Dense)             (None, 256)               131328    \n",
      "                                                                 \n",
      " dense_9 (Dense)             (None, 124)               31868     \n",
      "                                                                 \n",
      " dense_10 (Dense)            (None, 128)               16000     \n",
      "                                                                 \n",
      " dense_11 (Dense)            (None, 10)                1290      \n",
      "                                                                 \n",
      "=================================================================\n",
      "Total params: 582,406\n",
      "Trainable params: 582,406\n",
      "Non-trainable params: 0\n",
      "_________________________________________________________________\n"
     ]
    }
   ],
   "source": [
    "model = tf.keras.Sequential([\n",
    "    tf.keras.layers.Dense(512, activation='relu', input_dim=784),\n",
    "    tf.keras.layers.Dense(256, activation='relu'),\n",
    "    tf.keras.layers.Dense(124, activation='relu'),\n",
    "    tf.keras.layers.Dense(128, activation='relu'),\n",
    "    tf.keras.layers.Dense(10, activation='softmax')\n",
    "])\n",
    "\n",
    "model.summary()"
   ]
  },
  {
   "cell_type": "code",
   "execution_count": 49,
   "id": "4853f8ee",
   "metadata": {},
   "outputs": [],
   "source": [
    "model.compile(optimizer='adam', loss='categorical_crossentropy', metrics=['accuracy'])"
   ]
  },
  {
   "cell_type": "markdown",
   "id": "f1393e49",
   "metadata": {},
   "source": [
    "# Training"
   ]
  },
  {
   "cell_type": "code",
   "execution_count": 50,
   "id": "c4fc4c11",
   "metadata": {},
   "outputs": [
    {
     "name": "stdout",
     "output_type": "stream",
     "text": [
      "Epoch 1/10\n",
      "469/469 [==============================] - 9s 16ms/step - loss: 0.9673 - accuracy: 0.8908 - val_loss: 0.2701 - val_accuracy: 0.9335\n",
      "Epoch 2/10\n",
      "469/469 [==============================] - 7s 15ms/step - loss: 0.1738 - accuracy: 0.9516 - val_loss: 0.2155 - val_accuracy: 0.9408\n",
      "Epoch 3/10\n",
      "469/469 [==============================] - 6s 13ms/step - loss: 0.1161 - accuracy: 0.9660 - val_loss: 0.1648 - val_accuracy: 0.9542\n",
      "Epoch 4/10\n",
      "469/469 [==============================] - 6s 13ms/step - loss: 0.0926 - accuracy: 0.9721 - val_loss: 0.1395 - val_accuracy: 0.9642\n",
      "Epoch 5/10\n",
      "469/469 [==============================] - 6s 13ms/step - loss: 0.0852 - accuracy: 0.9751 - val_loss: 0.1229 - val_accuracy: 0.9649\n",
      "Epoch 6/10\n",
      "469/469 [==============================] - 6s 13ms/step - loss: 0.0794 - accuracy: 0.9766 - val_loss: 0.1499 - val_accuracy: 0.9615\n",
      "Epoch 7/10\n",
      "469/469 [==============================] - 6s 13ms/step - loss: 0.0770 - accuracy: 0.9778 - val_loss: 0.1303 - val_accuracy: 0.9678\n",
      "Epoch 8/10\n",
      "469/469 [==============================] - 6s 13ms/step - loss: 0.0760 - accuracy: 0.9785 - val_loss: 0.1183 - val_accuracy: 0.9694\n",
      "Epoch 9/10\n",
      "469/469 [==============================] - 6s 13ms/step - loss: 0.0751 - accuracy: 0.9786 - val_loss: 0.1438 - val_accuracy: 0.9652\n",
      "Epoch 10/10\n",
      "469/469 [==============================] - 6s 13ms/step - loss: 0.0600 - accuracy: 0.9826 - val_loss: 0.1297 - val_accuracy: 0.9692\n"
     ]
    }
   ],
   "source": [
    "history = model.fit(x_train, y_train, epochs=10, batch_size=128, validation_data=[x_test, y_test])"
   ]
  },
  {
   "cell_type": "code",
   "execution_count": 51,
   "id": "d668f109",
   "metadata": {},
   "outputs": [
    {
     "data": {
      "image/png": "[encoded data removed]",
      "text/plain": [
       "<Figure size 640x480 with 1 Axes>"
      ]
     },
     "metadata": {},
     "output_type": "display_data"
    }
   ],
   "source": [
    "nilai_x = range(len(history.history['accuracy']))\n",
    "plt.plot(nilai_x, history.history['accuracy'], label='Training')\n",
    "plt.plot(nilai_x, history.history['val_accuracy'], label='Validation')\n",
    "plt.legend()\n",
    "plt.show()"
   ]
  },
  {
   "cell_type": "markdown",
   "metadata": {},
   "source": [
    "# Evaluasi dan Save Model"
   ]
  },
  {
   "cell_type": "code",
   "execution_count": 52,
   "id": "7c0e5f08",
   "metadata": {},
   "outputs": [
    {
     "name": "stdout",
     "output_type": "stream",
     "text": [
      "313/313 [==============================] - 2s 7ms/step - loss: 0.1297 - accuracy: 0.9692\n"
     ]
    },
    {
     "data": {
      "text/plain": [
       "[0.12974222004413605, 0.9692000150680542]"
      ]
     },
     "execution_count": 52,
     "metadata": {},
     "output_type": "execute_result"
    }
   ],
   "source": [
    "model.evaluate(x_test, y_test)"
   ]
  },
  {
   "cell_type": "code",
   "execution_count": 55,
   "id": "907a89b1",
   "metadata": {},
   "outputs": [],
   "source": [
    "model.save('model/model_finished.h5')"
   ]
  },
  {
   "cell_type": "code",
   "execution_count": 56,
   "id": "954d4e35",
   "metadata": {},
   "outputs": [
    {
     "name": "stdout",
     "output_type": "stream",
     "text": [
      "Model: \"sequential_3\"\n",
      "_________________________________________________________________\n",
      " Layer (type)                Output Shape              Param #   \n",
      "=================================================================\n",
      " dense_7 (Dense)             (None, 512)               401920    \n",
      "                                                                 \n",
      " dense_8 (Dense)             (None, 256)               131328    \n",
      "                                                                 \n",
      " dense_9 (Dense)             (None, 124)               31868     \n",
      "                                                                 \n",
      " dense_10 (Dense)            (None, 128)               16000     \n",
      "                                                                 \n",
      " dense_11 (Dense)            (None, 10)                1290      \n",
      "                                                                 \n",
      "=================================================================\n",
      "Total params: 582,406\n",
      "Trainable params: 582,406\n",
      "Non-trainable params: 0\n",
      "_________________________________________________________________\n"
     ]
    }
   ],
   "source": [
    "model_saved = tf.keras.models.load_model('model/model_finished.h5')\n",
    "model_saved.summary()"
   ]
  },
  {
   "cell_type": "code",
   "execution_count": null,
   "id": "cd4ddc73",
   "metadata": {},
   "outputs": [],
   "source": []
  }
 ],
 "metadata": {
  "kernelspec": {
   "display_name": "Python 3.10.7 64-bit",
   "language": "python",
   "name": "python3"
  },
  "language_info": {
   "codemirror_mode": {
    "name": "ipython",
    "version": 3
   },
   "file_extension": ".py",
   "mimetype": "text/x-python",
   "name": "python",
   "nbconvert_exporter": "python",
   "pygments_lexer": "ipython3",
   "version": "3.10.7"
  },
  "vscode": {
   "interpreter": {
    "hash": "f5e7a29f196a6e548da217edb462c8080efda9ee83548c9b16772eb861fb1c89"
   }
  }
 },
 "nbformat": 4,
 "nbformat_minor": 5
}
