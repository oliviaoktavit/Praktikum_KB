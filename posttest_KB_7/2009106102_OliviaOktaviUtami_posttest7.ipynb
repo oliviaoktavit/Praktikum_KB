{
 "cells": [
  {
   "cell_type": "markdown",
   "id": "535369ad-05a4-4a16-ad48-35a4fecee998",
   "metadata": {},
   "source": [
    "# IMPORT LIBRARY\n"
   ]
  },
  {
   "cell_type": "code",
   "execution_count": 5,
   "id": "f22eb1f4-6aba-4494-af05-89c4c70fffda",
   "metadata": {},
   "outputs": [],
   "source": [
    "import tensorflow as tf\n",
    "import numpy as np\n"
   ]
  },
  {
   "cell_type": "markdown",
   "id": "3a5cddd8-f635-4a34-9614-a916e263da51",
   "metadata": {},
   "source": [
    "## tensor shape(5,5) dengan nilai random disimpan dalam variable random_tensor"
   ]
  },
  {
   "cell_type": "code",
   "execution_count": 6,
   "id": "b8475467-5a17-4c71-9bbc-b6f1695eb9e9",
   "metadata": {},
   "outputs": [
    {
     "data": {
      "text/plain": [
       "array([[-0.32386488,  0.99133694,  0.14024267,  1.2573972 ,  0.09992335],\n",
       "       [ 0.18983224, -0.28711194, -1.7413595 ,  1.8718754 , -2.0104504 ],\n",
       "       [-1.4673029 , -1.2721989 , -0.7803738 ,  0.94073033, -0.06164822],\n",
       "       [-2.0842526 ,  0.61423135, -1.451092  , -0.88693523, -0.96740866],\n",
       "       [ 0.94831836, -0.6974499 ,  0.5391437 , -0.52970064, -2.0105364 ]],\n",
       "      dtype=float32)"
      ]
     },
     "execution_count": 6,
     "metadata": {},
     "output_type": "execute_result"
    }
   ],
   "source": [
    "rn_tensor = tf.random.normal([5,5], mean=0., stddev=1., seed=1) #createe tensor use  tf.random.normal\n",
    "rn_tensor.numpy()"
   ]
  },
  {
   "cell_type": "markdown",
   "id": "f42e603a-6bdc-4f7c-aa1b-6d1c6233fe15",
   "metadata": {},
   "source": [
    "##  Tensor shape(5,5) dari list, nilai bilangan prima dalam variable prime_tensor"
   ]
  },
  {
   "cell_type": "code",
   "execution_count": 7,
   "id": "5f754b1c-b595-4222-842d-55e242d965e3",
   "metadata": {},
   "outputs": [
    {
     "data": {
      "text/plain": [
       "array([[ 2.,  4.,  6.,  8., 10.],\n",
       "       [12., 14., 16., 18., 20.],\n",
       "       [30., 32., 34., 36., 38.],\n",
       "       [50., 52., 54., 56., 58.],\n",
       "       [60., 62., 64., 66., 68.]], dtype=float32)"
      ]
     },
     "execution_count": 7,
     "metadata": {},
     "output_type": "execute_result"
    }
   ],
   "source": [
    "list_prima = [[2, 4, 6, 8, 10],[12, 14, 16,18,20],[30, 32, 34, 36, 38],[50, 52, 54, 56, 58],[60, 62, 64, 66, 68]]\n",
    "\n",
    "prima_tensor = tf.constant(list_prima, dtype=tf.float32) #create tensor use tf.constant\n",
    "prima_tensor.numpy()"
   ]
  },
  {
   "cell_type": "markdown",
   "id": "28adaedb-6815-47e1-b391-6e36c0b0c2e8",
   "metadata": {},
   "source": [
    "## Menampilkan dimensi dari kedua variable tersebut"
   ]
  },
  {
   "cell_type": "code",
   "execution_count": 8,
   "id": "3361a314-afc0-4ea3-be87-ca6e7717833e",
   "metadata": {},
   "outputs": [
    {
     "data": {
      "text/plain": [
       "TensorShape([5, 5])"
      ]
     },
     "execution_count": 8,
     "metadata": {},
     "output_type": "execute_result"
    }
   ],
   "source": [
    "rn_tensor.shape"
   ]
  },
  {
   "cell_type": "code",
   "execution_count": 10,
   "id": "e99b7240-f7ed-4ce1-ab76-915de00fbe1b",
   "metadata": {},
   "outputs": [
    {
     "data": {
      "text/plain": [
       "TensorShape([5, 5])"
      ]
     },
     "execution_count": 10,
     "metadata": {},
     "output_type": "execute_result"
    }
   ],
   "source": [
    "prima_tensor.shape"
   ]
  },
  {
   "cell_type": "markdown",
   "id": "4c58efff-6d33-4155-8b5c-182573fee29e",
   "metadata": {},
   "source": [
    "## Menampilkan hasil perhitungan aritmetika 2 variable (5 operator)"
   ]
  },
  {
   "cell_type": "code",
   "execution_count": 13,
   "id": "e7e8e472-9690-470e-8154-3d28e31f0a0b",
   "metadata": {},
   "outputs": [
    {
     "name": "stdout",
     "output_type": "stream",
     "text": [
      "Penjumlahan : tf.Tensor(\n",
      "[[ 1.6761351  4.991337   6.1402426  9.257397  10.099923 ]\n",
      " [12.189833  13.712888  14.25864   19.871876  17.98955  ]\n",
      " [28.532698  30.7278    33.219627  36.94073   37.93835  ]\n",
      " [47.91575   52.61423   52.54891   55.113064  57.032593 ]\n",
      " [60.94832   61.30255   64.53915   65.4703    65.98946  ]], shape=(5, 5), dtype=float32)\n"
     ]
    }
   ],
   "source": [
    "print(\"Penjumlahan :\",tf.add(prima_tensor,rn_tensor))"
   ]
  },
  {
   "cell_type": "code",
   "execution_count": 14,
   "id": "455ceb29-cfc3-4171-959f-b1bcda424d2b",
   "metadata": {},
   "outputs": [
    {
     "name": "stdout",
     "output_type": "stream",
     "text": [
      "Pengurangan : tf.Tensor(\n",
      "[[ 2.323865   3.0086632  5.8597574  6.742603   9.900077 ]\n",
      " [11.810167  14.287112  17.74136   16.128124  22.01045  ]\n",
      " [31.467302  33.272198  34.780373  35.05927   38.06165  ]\n",
      " [52.08425   51.38577   55.45109   56.886936  58.967407 ]\n",
      " [59.05168   62.69745   63.460857  66.5297    70.01054  ]], shape=(5, 5), dtype=float32)\n"
     ]
    }
   ],
   "source": [
    "print(\"Pengurangan :\",tf.subtract(prima_tensor,rn_tensor))"
   ]
  },
  {
   "cell_type": "code",
   "execution_count": 15,
   "id": "a4052b09-5307-4366-9c5f-fd84804815cc",
   "metadata": {},
   "outputs": [
    {
     "name": "stdout",
     "output_type": "stream",
     "text": [
      "Perkalian : tf.Tensor(\n",
      "[[  -0.64772975    3.9653478     0.841456     10.059177      0.9992335 ]\n",
      " [   2.277987     -4.019567    -27.861752     33.693756    -40.209007  ]\n",
      " [ -44.01909     -40.710365    -26.53271      33.86629      -2.3426325 ]\n",
      " [-104.21263      31.94003     -78.35897     -49.668373    -56.109703  ]\n",
      " [  56.8991      -43.241894     34.505196    -34.960243   -136.71648   ]], shape=(5, 5), dtype=float32)\n"
     ]
    }
   ],
   "source": [
    "print(\"Perkalian :\",tf.multiply(prima_tensor,rn_tensor))"
   ]
  },
  {
   "cell_type": "code",
   "execution_count": 16,
   "id": "808f85ee-c25e-457a-b9a7-6d768d4c1c43",
   "metadata": {},
   "outputs": [
    {
     "name": "stdout",
     "output_type": "stream",
     "text": [
      "Pembagian : tf.Tensor(\n",
      "[[  -6.175415     4.034955    42.782986     6.3623495  100.076706 ]\n",
      " [  63.21371    -48.76147     -9.188224     9.616025    -9.94802  ]\n",
      " [ -20.445677   -25.1533     -43.568863    38.26814   -616.4006   ]\n",
      " [ -23.989414    84.65865    -37.213352   -63.13877    -59.95398  ]\n",
      " [  63.26989    -88.89527    118.706764  -124.59868    -33.82182  ]], shape=(5, 5), dtype=float32)\n"
     ]
    }
   ],
   "source": [
    "print(\"Pembagian :\",tf.divide(prima_tensor,rn_tensor))"
   ]
  },
  {
   "cell_type": "code",
   "execution_count": 17,
   "id": "8c9bb617-6648-4b75-8d2d-64dbdf76cef7",
   "metadata": {},
   "outputs": [
    {
     "name": "stdout",
     "output_type": "stream",
     "text": [
      "Pangkat : tf.Tensor(\n",
      "[[7.98926711e-01 3.95224905e+00 1.28567147e+00 1.36628971e+01\n",
      "  1.25870323e+00]\n",
      " [1.60274112e+00 4.68741030e-01 8.00192077e-03 2.23724594e+02\n",
      "  2.42294627e-03]\n",
      " [6.80167181e-03 1.21660568e-02 6.38078302e-02 2.91112576e+01\n",
      "  7.99114764e-01]\n",
      " [2.87685107e-04 1.13246050e+01 3.06293136e-03 2.81494837e-02\n",
      "  1.96808781e-02]\n",
      " [4.85571823e+01 5.62207401e-02 9.41435432e+00 1.08689204e-01\n",
      "  2.06858836e-04]], shape=(5, 5), dtype=float32)\n"
     ]
    }
   ],
   "source": [
    "print(\"Pangkat :\",tf.pow(prima_tensor,rn_tensor))"
   ]
  },
  {
   "cell_type": "markdown",
   "id": "b86a09fb-cc6d-48a2-879c-9f9fdf564e73",
   "metadata": {},
   "source": [
    "## Nilai maksimal dan minimal dari variable random_tensor"
   ]
  },
  {
   "cell_type": "code",
   "execution_count": 18,
   "id": "ed7cd3bf-7d47-45a7-b3d7-7720f34005ce",
   "metadata": {},
   "outputs": [
    {
     "data": {
      "text/plain": [
       "array([3, 3, 3, 1, 0], dtype=int64)"
      ]
     },
     "execution_count": 18,
     "metadata": {},
     "output_type": "execute_result"
    }
   ],
   "source": [
    "tf.argmax(rn_tensor, axis=1). numpy() #nilai max dari kolom(axis=1)"
   ]
  },
  {
   "cell_type": "code",
   "execution_count": 20,
   "id": "eca6254e-eee2-46d7-996a-867904b185b1",
   "metadata": {},
   "outputs": [
    {
     "data": {
      "text/plain": [
       "array([0, 4, 0, 0, 4], dtype=int64)"
      ]
     },
     "execution_count": 20,
     "metadata": {},
     "output_type": "execute_result"
    }
   ],
   "source": [
    "tf.argmin(rn_tensor, axis=1). numpy() #nilai min dari kolom(axis=1)"
   ]
  },
  {
   "cell_type": "code",
   "execution_count": 22,
   "id": "c91b6923-2943-4466-a596-187ccbd893fc",
   "metadata": {},
   "outputs": [
    {
     "data": {
      "text/plain": [
       "array([4, 0, 4, 1, 0], dtype=int64)"
      ]
     },
     "execution_count": 22,
     "metadata": {},
     "output_type": "execute_result"
    }
   ],
   "source": [
    "tf.argmax(rn_tensor, axis=0). numpy() #nilai max dari baris(axis=0)"
   ]
  },
  {
   "cell_type": "code",
   "execution_count": 24,
   "id": "ab0d2fb5-622c-4241-8278-e187c7ae27fb",
   "metadata": {},
   "outputs": [
    {
     "data": {
      "text/plain": [
       "array([3, 2, 1, 3, 4], dtype=int64)"
      ]
     },
     "execution_count": 24,
     "metadata": {},
     "output_type": "execute_result"
    }
   ],
   "source": [
    "tf.argmin(rn_tensor, axis=0). numpy() #nilai min dari baris(axis=0)"
   ]
  },
  {
   "cell_type": "markdown",
   "id": "0d8d5c20-0a27-42c5-80d1-e6a308ec2097",
   "metadata": {},
   "source": [
    "## Penggabungan variable random_tensor dengan prime_tensor (concatenation)"
   ]
  },
  {
   "cell_type": "code",
   "execution_count": 26,
   "id": "afdfa735-be5e-474f-89bc-7373a697a437",
   "metadata": {},
   "outputs": [
    {
     "data": {
      "text/plain": [
       "<tf.Tensor: shape=(5, 10), dtype=float32, numpy=\n",
       "array([[-3.2386488e-01,  9.9133694e-01,  1.4024267e-01,  1.2573972e+00,\n",
       "         9.9923350e-02,  2.0000000e+00,  4.0000000e+00,  6.0000000e+00,\n",
       "         8.0000000e+00,  1.0000000e+01],\n",
       "       [ 1.8983224e-01, -2.8711194e-01, -1.7413595e+00,  1.8718754e+00,\n",
       "        -2.0104504e+00,  1.2000000e+01,  1.4000000e+01,  1.6000000e+01,\n",
       "         1.8000000e+01,  2.0000000e+01],\n",
       "       [-1.4673029e+00, -1.2721989e+00, -7.8037381e-01,  9.4073033e-01,\n",
       "        -6.1648224e-02,  3.0000000e+01,  3.2000000e+01,  3.4000000e+01,\n",
       "         3.6000000e+01,  3.8000000e+01],\n",
       "       [-2.0842526e+00,  6.1423135e-01, -1.4510920e+00, -8.8693523e-01,\n",
       "        -9.6740866e-01,  5.0000000e+01,  5.2000000e+01,  5.4000000e+01,\n",
       "         5.6000000e+01,  5.8000000e+01],\n",
       "       [ 9.4831836e-01, -6.9744992e-01,  5.3914368e-01, -5.2970064e-01,\n",
       "        -2.0105364e+00,  6.0000000e+01,  6.2000000e+01,  6.4000000e+01,\n",
       "         6.6000000e+01,  6.8000000e+01]], dtype=float32)>"
      ]
     },
     "execution_count": 26,
     "metadata": {},
     "output_type": "execute_result"
    }
   ],
   "source": [
    "tf.concat([rn_tensor, prima_tensor], axis=1) #penggabungan kolom"
   ]
  },
  {
   "cell_type": "code",
   "execution_count": 28,
   "id": "0c4231e7-7b3f-4bf9-b061-9e86bcc2d0ae",
   "metadata": {},
   "outputs": [
    {
     "data": {
      "text/plain": [
       "<tf.Tensor: shape=(10, 5), dtype=float32, numpy=\n",
       "array([[-3.2386488e-01,  9.9133694e-01,  1.4024267e-01,  1.2573972e+00,\n",
       "         9.9923350e-02],\n",
       "       [ 1.8983224e-01, -2.8711194e-01, -1.7413595e+00,  1.8718754e+00,\n",
       "        -2.0104504e+00],\n",
       "       [-1.4673029e+00, -1.2721989e+00, -7.8037381e-01,  9.4073033e-01,\n",
       "        -6.1648224e-02],\n",
       "       [-2.0842526e+00,  6.1423135e-01, -1.4510920e+00, -8.8693523e-01,\n",
       "        -9.6740866e-01],\n",
       "       [ 9.4831836e-01, -6.9744992e-01,  5.3914368e-01, -5.2970064e-01,\n",
       "        -2.0105364e+00],\n",
       "       [ 2.0000000e+00,  4.0000000e+00,  6.0000000e+00,  8.0000000e+00,\n",
       "         1.0000000e+01],\n",
       "       [ 1.2000000e+01,  1.4000000e+01,  1.6000000e+01,  1.8000000e+01,\n",
       "         2.0000000e+01],\n",
       "       [ 3.0000000e+01,  3.2000000e+01,  3.4000000e+01,  3.6000000e+01,\n",
       "         3.8000000e+01],\n",
       "       [ 5.0000000e+01,  5.2000000e+01,  5.4000000e+01,  5.6000000e+01,\n",
       "         5.8000000e+01],\n",
       "       [ 6.0000000e+01,  6.2000000e+01,  6.4000000e+01,  6.6000000e+01,\n",
       "         6.8000000e+01]], dtype=float32)>"
      ]
     },
     "execution_count": 28,
     "metadata": {},
     "output_type": "execute_result"
    }
   ],
   "source": [
    "tf.concat([rn_tensor, prima_tensor], axis=0) #penggabungan baris"
   ]
  },
  {
   "cell_type": "markdown",
   "id": "135d6f88-5d5e-4c50-9e06-db2617c41cf4",
   "metadata": {},
   "source": [
    "## Hasil sorting kedua variable di atas. (descending)"
   ]
  },
  {
   "cell_type": "code",
   "execution_count": 30,
   "id": "d050fd32-56c1-4b0b-91bd-b1a9495f73d7",
   "metadata": {},
   "outputs": [
    {
     "data": {
      "text/plain": [
       "array([[ 1.2573972 ,  0.99133694,  0.14024267,  0.09992335, -0.32386488],\n",
       "       [ 1.8718754 ,  0.18983224, -0.28711194, -1.7413595 , -2.0104504 ],\n",
       "       [ 0.94073033, -0.06164822, -0.7803738 , -1.2721989 , -1.4673029 ],\n",
       "       [ 0.61423135, -0.88693523, -0.96740866, -1.451092  , -2.0842526 ],\n",
       "       [ 0.94831836,  0.5391437 , -0.52970064, -0.6974499 , -2.0105364 ]],\n",
       "      dtype=float32)"
      ]
     },
     "execution_count": 30,
     "metadata": {},
     "output_type": "execute_result"
    }
   ],
   "source": [
    "sort_rn_tensor1 = tf.sort(rn_tensor, direction=\"DESCENDING\") \n",
    "sort_rn_tensor1.numpy()"
   ]
  },
  {
   "cell_type": "code",
   "execution_count": 31,
   "id": "1e21c849-3652-4df1-8dcf-32448b058de9",
   "metadata": {},
   "outputs": [
    {
     "data": {
      "text/plain": [
       "array([[10.,  8.,  6.,  4.,  2.],\n",
       "       [20., 18., 16., 14., 12.],\n",
       "       [38., 36., 34., 32., 30.],\n",
       "       [58., 56., 54., 52., 50.],\n",
       "       [68., 66., 64., 62., 60.]], dtype=float32)"
      ]
     },
     "execution_count": 31,
     "metadata": {},
     "output_type": "execute_result"
    }
   ],
   "source": [
    "sort_prima_tensor1 = tf.sort(prima_tensor, direction=\"DESCENDING\")\n",
    "sort_prima_tensor1.numpy()"
   ]
  },
  {
   "cell_type": "code",
   "execution_count": 33,
   "id": "26ccffa7-207a-482c-b612-bd735c52fbb1",
   "metadata": {},
   "outputs": [
    {
     "data": {
      "text/plain": [
       "array([[3, 1, 2, 4, 0],\n",
       "       [3, 0, 1, 2, 4],\n",
       "       [3, 4, 2, 1, 0],\n",
       "       [1, 3, 4, 2, 0],\n",
       "       [0, 2, 3, 1, 4]])"
      ]
     },
     "execution_count": 33,
     "metadata": {},
     "output_type": "execute_result"
    }
   ],
   "source": [
    "sort_rn_tensor2 = tf.argsort(rn_tensor, direction=\"DESCENDING\") \n",
    "sort_rn_tensor2.numpy()"
   ]
  },
  {
   "cell_type": "code",
   "execution_count": 34,
   "id": "900723d4-1558-4765-8b02-35f4157ab61e",
   "metadata": {},
   "outputs": [
    {
     "data": {
      "text/plain": [
       "array([[4, 3, 2, 1, 0],\n",
       "       [4, 3, 2, 1, 0],\n",
       "       [4, 3, 2, 1, 0],\n",
       "       [4, 3, 2, 1, 0],\n",
       "       [4, 3, 2, 1, 0]])"
      ]
     },
     "execution_count": 34,
     "metadata": {},
     "output_type": "execute_result"
    }
   ],
   "source": [
    "sort_prima_tensor2 = tf.argsort(prima_tensor, direction=\"DESCENDING\")\n",
    "sort_prima_tensor2.numpy()"
   ]
  },
  {
   "cell_type": "code",
   "execution_count": null,
   "id": "7e20e3e7-b154-462a-a7cb-759aeeb681d9",
   "metadata": {},
   "outputs": [],
   "source": []
  }
 ],
 "metadata": {
  "kernelspec": {
   "display_name": "Python 3 (ipykernel)",
   "language": "python",
   "name": "python3"
  },
  "language_info": {
   "codemirror_mode": {
    "name": "ipython",
    "version": 3
   },
   "file_extension": ".py",
   "mimetype": "text/x-python",
   "name": "python",
   "nbconvert_exporter": "python",
   "pygments_lexer": "ipython3",
   "version": "3.10.7"
  }
 },
 "nbformat": 4,
 "nbformat_minor": 5
}
