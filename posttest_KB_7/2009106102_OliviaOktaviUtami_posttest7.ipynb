{
 "cells": [
  {
   "cell_type": "markdown",
   "id": "535369ad-05a4-4a16-ad48-35a4fecee998",
   "metadata": {},
   "source": [
    "# IMPORT LIBRARY\n"
   ]
  },
  {
   "cell_type": "code",
   "execution_count": 1,
   "id": "f22eb1f4-6aba-4494-af05-89c4c70fffda",
   "metadata": {},
   "outputs": [],
   "source": [
    "import tensorflow as tf\n",
    "import numpy as np\n"
   ]
  },
  {
   "cell_type": "markdown",
   "id": "3a5cddd8-f635-4a34-9614-a916e263da51",
   "metadata": {},
   "source": [
    "## tensor shape(5,5) dengan nilai random disimpan dalam variable random_tensor"
   ]
  },
  {
   "cell_type": "code",
   "execution_count": 2,
   "id": "b8475467-5a17-4c71-9bbc-b6f1695eb9e9",
   "metadata": {},
   "outputs": [
    {
     "data": {
      "text/plain": [
       "array([[-0.8113182 ,  1.4845988 ,  0.06532937, -2.4427042 ,  0.0992484 ],\n",
       "       [ 0.5912243 ,  0.59282297, -2.1229296 , -0.72289723, -0.05627038],\n",
       "       [ 0.6435448 , -0.26432407,  1.8566332 ,  0.5678417 , -0.3828359 ],\n",
       "       [-1.4853433 ,  1.2617711 , -0.02530608, -0.2646297 ,  1.5328138 ],\n",
       "       [-1.7429771 , -0.43789294, -0.56601   ,  0.32066926,  1.132831  ]],\n",
       "      dtype=float32)"
      ]
     },
     "execution_count": 2,
     "metadata": {},
     "output_type": "execute_result"
    }
   ],
   "source": [
    "rn_tensor = tf.random.normal([5,5], mean=0., stddev=1., seed=1) #createe tensor use  tf.random.normal\n",
    "rn_tensor.numpy()"
   ]
  },
  {
   "cell_type": "markdown",
   "id": "f42e603a-6bdc-4f7c-aa1b-6d1c6233fe15",
   "metadata": {},
   "source": [
    "##  Tensor shape(5,5) dari list, nilai bilangan prima dalam variable prime_tensor"
   ]
  },
  {
   "cell_type": "code",
   "execution_count": 3,
   "id": "5f754b1c-b595-4222-842d-55e242d965e3",
   "metadata": {},
   "outputs": [
    {
     "data": {
      "text/plain": [
       "array([[19., 53.,  5.,  7., 13.],\n",
       "       [11., 17.,  2., 23., 59.],\n",
       "       [31., 37., 47., 43., 97.],\n",
       "       [ 3., 29., 61.,  1., 73.],\n",
       "       [79., 83., 89., 41., 71.]], dtype=float32)"
      ]
     },
     "execution_count": 3,
     "metadata": {},
     "output_type": "execute_result"
    }
   ],
   "source": [
    "list_prima = [[19, 53, 5, 7, 13],[11, 17, 2, 23, 59],[31, 37, 47, 43, 97],[3, 29, 61, 1, 73],[79, 83, 89, 41, 71]]\n",
    "\n",
    "prima_tensor = tf.constant(list_prima, dtype=tf.float32) #create tensor use tf.constant\n",
    "prima_tensor.numpy()"
   ]
  },
  {
   "cell_type": "markdown",
   "id": "28adaedb-6815-47e1-b391-6e36c0b0c2e8",
   "metadata": {},
   "source": [
    "## Menampilkan dimensi dari kedua variable tersebut"
   ]
  },
  {
   "cell_type": "code",
   "execution_count": 4,
   "id": "3361a314-afc0-4ea3-be87-ca6e7717833e",
   "metadata": {},
   "outputs": [
    {
     "data": {
      "text/plain": [
       "TensorShape([5, 5])"
      ]
     },
     "execution_count": 4,
     "metadata": {},
     "output_type": "execute_result"
    }
   ],
   "source": [
    "rn_tensor.shape"
   ]
  },
  {
   "cell_type": "code",
   "execution_count": 5,
   "id": "e99b7240-f7ed-4ce1-ab76-915de00fbe1b",
   "metadata": {},
   "outputs": [
    {
     "data": {
      "text/plain": [
       "TensorShape([5, 5])"
      ]
     },
     "execution_count": 5,
     "metadata": {},
     "output_type": "execute_result"
    }
   ],
   "source": [
    "prima_tensor.shape"
   ]
  },
  {
   "cell_type": "markdown",
   "id": "4c58efff-6d33-4155-8b5c-182573fee29e",
   "metadata": {},
   "source": [
    "## Menampilkan hasil perhitungan aritmetika 2 variable (5 operator)"
   ]
  },
  {
   "cell_type": "code",
   "execution_count": 6,
   "id": "e7e8e472-9690-470e-8154-3d28e31f0a0b",
   "metadata": {},
   "outputs": [
    {
     "name": "stdout",
     "output_type": "stream",
     "text": [
      "Penjumlahan : tf.Tensor(\n",
      "[[18.188683   54.4846      5.0653296   4.557296   13.099248  ]\n",
      " [11.591225   17.592823   -0.12292957 22.277103   58.94373   ]\n",
      " [31.643545   36.735676   48.856632   43.56784    96.617165  ]\n",
      " [ 1.5146567  30.26177    60.974693    0.7353703  74.532814  ]\n",
      " [77.25702    82.5621     88.43399    41.32067    72.13283   ]], shape=(5, 5), dtype=float32)\n"
     ]
    }
   ],
   "source": [
    "print(\"Penjumlahan :\",tf.add(prima_tensor,rn_tensor))"
   ]
  },
  {
   "cell_type": "code",
   "execution_count": 7,
   "id": "455ceb29-cfc3-4171-959f-b1bcda424d2b",
   "metadata": {},
   "outputs": [
    {
     "name": "stdout",
     "output_type": "stream",
     "text": [
      "Pengurangan : tf.Tensor(\n",
      "[[19.811317  51.5154     4.9346704  9.442704  12.900752 ]\n",
      " [10.408775  16.407177   4.1229296 23.722897  59.05627  ]\n",
      " [30.356455  37.264324  45.143368  42.43216   97.382835 ]\n",
      " [ 4.4853435 27.73823   61.025307   1.2646297 71.467186 ]\n",
      " [80.74298   83.4379    89.56601   40.67933   69.86717  ]], shape=(5, 5), dtype=float32)\n"
     ]
    }
   ],
   "source": [
    "print(\"Pengurangan :\",tf.subtract(prima_tensor,rn_tensor))"
   ]
  },
  {
   "cell_type": "code",
   "execution_count": 8,
   "id": "a4052b09-5307-4366-9c5f-fd84804815cc",
   "metadata": {},
   "outputs": [
    {
     "name": "stdout",
     "output_type": "stream",
     "text": [
      "Perkalian : tf.Tensor(\n",
      "[[ -15.415046     78.68373       0.32664686  -17.09893       1.2902292 ]\n",
      " [   6.5034676    10.077991     -4.245859    -16.626637     -3.3199525 ]\n",
      " [  19.949888     -9.77999      87.26176      24.417194    -37.135082  ]\n",
      " [  -4.45603      36.591362     -1.5436709    -0.2646297   111.89541   ]\n",
      " [-137.69519     -36.345116    -50.37489      13.14744      80.431     ]], shape=(5, 5), dtype=float32)\n"
     ]
    }
   ],
   "source": [
    "print(\"Perkalian :\",tf.multiply(prima_tensor,rn_tensor))"
   ]
  },
  {
   "cell_type": "code",
   "execution_count": 9,
   "id": "808f85ee-c25e-457a-b9a7-6d768d4c1c43",
   "metadata": {},
   "outputs": [
    {
     "name": "stdout",
     "output_type": "stream",
     "text": [
      "Pembagian : tf.Tensor(\n",
      "[[-2.3418678e+01  3.5699883e+01  7.6535255e+01 -2.8656764e+00\n",
      "   1.3098448e+02]\n",
      " [ 1.8605459e+01  2.8676352e+01 -9.4209439e-01 -3.1816418e+01\n",
      "  -1.0485090e+03]\n",
      " [ 4.8170696e+01 -1.3997969e+02  2.5314640e+01  7.5725327e+01\n",
      "  -2.5337227e+02]\n",
      " [-2.0197351e+00  2.2983566e+01 -2.4104880e+03 -3.7788653e+00\n",
      "   4.7624832e+01]\n",
      " [-4.5324749e+01 -1.8954405e+02 -1.5724104e+02  1.2785759e+02\n",
      "   6.2674839e+01]], shape=(5, 5), dtype=float32)\n"
     ]
    }
   ],
   "source": [
    "print(\"Pembagian :\",tf.divide(prima_tensor,rn_tensor))"
   ]
  },
  {
   "cell_type": "code",
   "execution_count": 10,
   "id": "8c9bb617-6648-4b75-8d2d-64dbdf76cef7",
   "metadata": {},
   "outputs": [
    {
     "name": "stdout",
     "output_type": "stream",
     "text": [
      "Pangkat : tf.Tensor(\n",
      "[[9.1732644e-02 3.6295920e+02 1.1108701e+00 8.6233392e-03 1.2899032e+00]\n",
      " [4.1275911e+00 5.3633776e+00 2.2958025e-01 1.0365988e-01 7.9497504e-01]\n",
      " [9.1150293e+00 3.8502288e-01 1.2719568e+03 8.4635296e+00 1.7353715e-01]\n",
      " [1.9557400e-01 7.0018288e+01 9.0119815e-01 1.0000000e+00 7.1800415e+02]\n",
      " [4.9258291e-04 1.4442728e-01 7.8818068e-02 3.2898054e+00 1.2507278e+02]], shape=(5, 5), dtype=float32)\n"
     ]
    }
   ],
   "source": [
    "print(\"Pangkat :\",tf.pow(prima_tensor,rn_tensor))"
   ]
  },
  {
   "cell_type": "markdown",
   "id": "b86a09fb-cc6d-48a2-879c-9f9fdf564e73",
   "metadata": {},
   "source": [
    "## Nilai maksimal dan minimal dari variable random_tensor"
   ]
  },
  {
   "cell_type": "code",
   "execution_count": 11,
   "id": "ed7cd3bf-7d47-45a7-b3d7-7720f34005ce",
   "metadata": {},
   "outputs": [
    {
     "data": {
      "text/plain": [
       "array([1, 1, 2, 4, 4], dtype=int64)"
      ]
     },
     "execution_count": 11,
     "metadata": {},
     "output_type": "execute_result"
    }
   ],
   "source": [
    "tf.argmax(rn_tensor, axis=1). numpy() #nilai max dari kolom(axis=1)"
   ]
  },
  {
   "cell_type": "code",
   "execution_count": 12,
   "id": "eca6254e-eee2-46d7-996a-867904b185b1",
   "metadata": {},
   "outputs": [
    {
     "data": {
      "text/plain": [
       "array([3, 2, 4, 0, 0], dtype=int64)"
      ]
     },
     "execution_count": 12,
     "metadata": {},
     "output_type": "execute_result"
    }
   ],
   "source": [
    "tf.argmin(rn_tensor, axis=1). numpy() #nilai min dari kolom(axis=1)"
   ]
  },
  {
   "cell_type": "code",
   "execution_count": 13,
   "id": "c91b6923-2943-4466-a596-187ccbd893fc",
   "metadata": {},
   "outputs": [
    {
     "data": {
      "text/plain": [
       "array([2, 0, 2, 2, 3], dtype=int64)"
      ]
     },
     "execution_count": 13,
     "metadata": {},
     "output_type": "execute_result"
    }
   ],
   "source": [
    "tf.argmax(rn_tensor, axis=0). numpy() #nilai max dari baris(axis=0)"
   ]
  },
  {
   "cell_type": "code",
   "execution_count": 14,
   "id": "ab0d2fb5-622c-4241-8278-e187c7ae27fb",
   "metadata": {},
   "outputs": [
    {
     "data": {
      "text/plain": [
       "array([4, 4, 1, 0, 2], dtype=int64)"
      ]
     },
     "execution_count": 14,
     "metadata": {},
     "output_type": "execute_result"
    }
   ],
   "source": [
    "tf.argmin(rn_tensor, axis=0). numpy() #nilai min dari baris(axis=0)"
   ]
  },
  {
   "cell_type": "markdown",
   "id": "0d8d5c20-0a27-42c5-80d1-e6a308ec2097",
   "metadata": {},
   "source": [
    "## Penggabungan variable random_tensor dengan prime_tensor (concatenation)"
   ]
  },
  {
   "cell_type": "code",
   "execution_count": 15,
   "id": "afdfa735-be5e-474f-89bc-7373a697a437",
   "metadata": {},
   "outputs": [
    {
     "data": {
      "text/plain": [
       "<tf.Tensor: shape=(5, 10), dtype=float32, numpy=\n",
       "array([[-8.1131822e-01,  1.4845988e+00,  6.5329373e-02, -2.4427042e+00,\n",
       "         9.9248402e-02,  1.9000000e+01,  5.3000000e+01,  5.0000000e+00,\n",
       "         7.0000000e+00,  1.3000000e+01],\n",
       "       [ 5.9122431e-01,  5.9282297e-01, -2.1229296e+00, -7.2289723e-01,\n",
       "        -5.6270380e-02,  1.1000000e+01,  1.7000000e+01,  2.0000000e+00,\n",
       "         2.3000000e+01,  5.9000000e+01],\n",
       "       [ 6.4354479e-01, -2.6432407e-01,  1.8566332e+00,  5.6784171e-01,\n",
       "        -3.8283589e-01,  3.1000000e+01,  3.7000000e+01,  4.7000000e+01,\n",
       "         4.3000000e+01,  9.7000000e+01],\n",
       "       [-1.4853433e+00,  1.2617711e+00, -2.5306080e-02, -2.6462969e-01,\n",
       "         1.5328138e+00,  3.0000000e+00,  2.9000000e+01,  6.1000000e+01,\n",
       "         1.0000000e+00,  7.3000000e+01],\n",
       "       [-1.7429771e+00, -4.3789294e-01, -5.6601000e-01,  3.2066926e-01,\n",
       "         1.1328310e+00,  7.9000000e+01,  8.3000000e+01,  8.9000000e+01,\n",
       "         4.1000000e+01,  7.1000000e+01]], dtype=float32)>"
      ]
     },
     "execution_count": 15,
     "metadata": {},
     "output_type": "execute_result"
    }
   ],
   "source": [
    "tf.concat([rn_tensor, prima_tensor], axis=1) #penggabungan kolom"
   ]
  },
  {
   "cell_type": "code",
   "execution_count": 16,
   "id": "0c4231e7-7b3f-4bf9-b061-9e86bcc2d0ae",
   "metadata": {},
   "outputs": [
    {
     "data": {
      "text/plain": [
       "<tf.Tensor: shape=(10, 5), dtype=float32, numpy=\n",
       "array([[-8.1131822e-01,  1.4845988e+00,  6.5329373e-02, -2.4427042e+00,\n",
       "         9.9248402e-02],\n",
       "       [ 5.9122431e-01,  5.9282297e-01, -2.1229296e+00, -7.2289723e-01,\n",
       "        -5.6270380e-02],\n",
       "       [ 6.4354479e-01, -2.6432407e-01,  1.8566332e+00,  5.6784171e-01,\n",
       "        -3.8283589e-01],\n",
       "       [-1.4853433e+00,  1.2617711e+00, -2.5306080e-02, -2.6462969e-01,\n",
       "         1.5328138e+00],\n",
       "       [-1.7429771e+00, -4.3789294e-01, -5.6601000e-01,  3.2066926e-01,\n",
       "         1.1328310e+00],\n",
       "       [ 1.9000000e+01,  5.3000000e+01,  5.0000000e+00,  7.0000000e+00,\n",
       "         1.3000000e+01],\n",
       "       [ 1.1000000e+01,  1.7000000e+01,  2.0000000e+00,  2.3000000e+01,\n",
       "         5.9000000e+01],\n",
       "       [ 3.1000000e+01,  3.7000000e+01,  4.7000000e+01,  4.3000000e+01,\n",
       "         9.7000000e+01],\n",
       "       [ 3.0000000e+00,  2.9000000e+01,  6.1000000e+01,  1.0000000e+00,\n",
       "         7.3000000e+01],\n",
       "       [ 7.9000000e+01,  8.3000000e+01,  8.9000000e+01,  4.1000000e+01,\n",
       "         7.1000000e+01]], dtype=float32)>"
      ]
     },
     "execution_count": 16,
     "metadata": {},
     "output_type": "execute_result"
    }
   ],
   "source": [
    "tf.concat([rn_tensor, prima_tensor], axis=0) #penggabungan baris"
   ]
  },
  {
   "cell_type": "markdown",
   "id": "135d6f88-5d5e-4c50-9e06-db2617c41cf4",
   "metadata": {},
   "source": [
    "## Hasil sorting kedua variable di atas. (descending)"
   ]
  },
  {
   "cell_type": "code",
   "execution_count": 17,
   "id": "d050fd32-56c1-4b0b-91bd-b1a9495f73d7",
   "metadata": {},
   "outputs": [
    {
     "data": {
      "text/plain": [
       "array([[ 1.4845988 ,  0.0992484 ,  0.06532937, -0.8113182 , -2.4427042 ],\n",
       "       [ 0.59282297,  0.5912243 , -0.05627038, -0.72289723, -2.1229296 ],\n",
       "       [ 1.8566332 ,  0.6435448 ,  0.5678417 , -0.26432407, -0.3828359 ],\n",
       "       [ 1.5328138 ,  1.2617711 , -0.02530608, -0.2646297 , -1.4853433 ],\n",
       "       [ 1.132831  ,  0.32066926, -0.43789294, -0.56601   , -1.7429771 ]],\n",
       "      dtype=float32)"
      ]
     },
     "execution_count": 17,
     "metadata": {},
     "output_type": "execute_result"
    }
   ],
   "source": [
    "sort_rn_tensor1 = tf.sort(rn_tensor, direction=\"DESCENDING\") \n",
    "sort_rn_tensor1.numpy()"
   ]
  },
  {
   "cell_type": "code",
   "execution_count": 18,
   "id": "1e21c849-3652-4df1-8dcf-32448b058de9",
   "metadata": {},
   "outputs": [
    {
     "data": {
      "text/plain": [
       "array([[53., 19., 13.,  7.,  5.],\n",
       "       [59., 23., 17., 11.,  2.],\n",
       "       [97., 47., 43., 37., 31.],\n",
       "       [73., 61., 29.,  3.,  1.],\n",
       "       [89., 83., 79., 71., 41.]], dtype=float32)"
      ]
     },
     "execution_count": 18,
     "metadata": {},
     "output_type": "execute_result"
    }
   ],
   "source": [
    "sort_prima_tensor1 = tf.sort(prima_tensor, direction=\"DESCENDING\")\n",
    "sort_prima_tensor1.numpy()"
   ]
  },
  {
   "cell_type": "code",
   "execution_count": 19,
   "id": "26ccffa7-207a-482c-b612-bd735c52fbb1",
   "metadata": {},
   "outputs": [
    {
     "data": {
      "text/plain": [
       "array([[1, 4, 2, 0, 3],\n",
       "       [1, 0, 4, 3, 2],\n",
       "       [2, 0, 3, 1, 4],\n",
       "       [4, 1, 2, 3, 0],\n",
       "       [4, 3, 1, 2, 0]])"
      ]
     },
     "execution_count": 19,
     "metadata": {},
     "output_type": "execute_result"
    }
   ],
   "source": [
    "sort_rn_tensor2 = tf.argsort(rn_tensor, direction=\"DESCENDING\") \n",
    "sort_rn_tensor2.numpy()"
   ]
  },
  {
   "cell_type": "code",
   "execution_count": 20,
   "id": "900723d4-1558-4765-8b02-35f4157ab61e",
   "metadata": {},
   "outputs": [
    {
     "data": {
      "text/plain": [
       "array([[1, 0, 4, 3, 2],\n",
       "       [4, 3, 1, 0, 2],\n",
       "       [4, 2, 3, 1, 0],\n",
       "       [4, 2, 1, 0, 3],\n",
       "       [2, 1, 0, 4, 3]])"
      ]
     },
     "execution_count": 20,
     "metadata": {},
     "output_type": "execute_result"
    }
   ],
   "source": [
    "sort_prima_tensor2 = tf.argsort(prima_tensor, direction=\"DESCENDING\")\n",
    "sort_prima_tensor2.numpy()"
   ]
  }
 ],
 "metadata": {
  "kernelspec": {
   "display_name": "Python 3 (ipykernel)",
   "language": "python",
   "name": "python3"
  },
  "language_info": {
   "codemirror_mode": {
    "name": "ipython",
    "version": 3
   },
   "file_extension": ".py",
   "mimetype": "text/x-python",
   "name": "python",
   "nbconvert_exporter": "python",
   "pygments_lexer": "ipython3",
   "version": "3.10.7"
  }
 },
 "nbformat": 4,
 "nbformat_minor": 5
}
