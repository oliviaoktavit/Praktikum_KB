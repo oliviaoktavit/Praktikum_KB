{
 "cells": [
  {
   "cell_type": "code",
   "execution_count": 1,
   "id": "2639190a",
   "metadata": {},
   "outputs": [],
   "source": [
    "import pandas as pd \n",
    "import numpy as np "
   ]
  },
  {
   "cell_type": "code",
   "execution_count": 3,
   "id": "b1d9c442",
   "metadata": {},
   "outputs": [],
   "source": [
    "datamakeup = pd.read_csv('review makeup.csv')"
   ]
  },
  {
   "cell_type": "markdown",
   "id": "46801e30",
   "metadata": {},
   "source": [
    "## TIPE DATASET"
   ]
  },
  {
   "cell_type": "code",
   "execution_count": 4,
   "id": "cc0460d0",
   "metadata": {},
   "outputs": [
    {
     "data": {
      "text/plain": [
       "Product         object\n",
       "UserName        object\n",
       "SkinCond_Age    object\n",
       "Recommend       object\n",
       "PostDate        object\n",
       "Review          object\n",
       "Rating           int64\n",
       "dtype: object"
      ]
     },
     "execution_count": 4,
     "metadata": {},
     "output_type": "execute_result"
    }
   ],
   "source": [
    "datamakeup.dtypes"
   ]
  },
  {
   "cell_type": "markdown",
   "id": "7984df5b",
   "metadata": {},
   "source": [
    "## MELIHAT DATASET"
   ]
  },
  {
   "cell_type": "code",
   "execution_count": 5,
   "id": "6634e3d2",
   "metadata": {},
   "outputs": [
    {
     "data": {
      "text/html": [
       "<div>\n",
       "<style scoped>\n",
       "    .dataframe tbody tr th:only-of-type {\n",
       "        vertical-align: middle;\n",
       "    }\n",
       "\n",
       "    .dataframe tbody tr th {\n",
       "        vertical-align: top;\n",
       "    }\n",
       "\n",
       "    .dataframe thead th {\n",
       "        text-align: right;\n",
       "    }\n",
       "</style>\n",
       "<table border=\"1\" class=\"dataframe\">\n",
       "  <thead>\n",
       "    <tr style=\"text-align: right;\">\n",
       "      <th></th>\n",
       "      <th>Product</th>\n",
       "      <th>UserName</th>\n",
       "      <th>SkinCond_Age</th>\n",
       "      <th>Recommend</th>\n",
       "      <th>PostDate</th>\n",
       "      <th>Review</th>\n",
       "      <th>Rating</th>\n",
       "    </tr>\n",
       "  </thead>\n",
       "  <tbody>\n",
       "    <tr>\n",
       "      <th>0</th>\n",
       "      <td>Perfect 3D Gel</td>\n",
       "      <td>MALA_</td>\n",
       "      <td>35 - 39</td>\n",
       "      <td>MALA_ recommends this product!</td>\n",
       "      <td>12 Jul 2020</td>\n",
       "      <td>Di aku beneran kerja. Melembabkan bgt. Tp gak ...</td>\n",
       "      <td>5</td>\n",
       "    </tr>\n",
       "    <tr>\n",
       "      <th>1</th>\n",
       "      <td>Perfect 3D Gel</td>\n",
       "      <td>Vitamaylinda</td>\n",
       "      <td>Normal, 19 - 24</td>\n",
       "      <td>Vitamaylinda doesn't recommend this product!</td>\n",
       "      <td>31 May 2020</td>\n",
       "      <td>ga cocok bgttt bikin muka bruntusan dan lgsg m...</td>\n",
       "      <td>2</td>\n",
       "    </tr>\n",
       "    <tr>\n",
       "      <th>2</th>\n",
       "      <td>Perfect 3D Gel</td>\n",
       "      <td>aishdwie</td>\n",
       "      <td>Combination, 19 - 24</td>\n",
       "      <td>aishdwie doesn't recommend this product!</td>\n",
       "      <td>30 Jul 2020</td>\n",
       "      <td>[SOLD]baru pertama kali nyoba dan beli karna l...</td>\n",
       "      <td>2</td>\n",
       "    </tr>\n",
       "    <tr>\n",
       "      <th>3</th>\n",
       "      <td>Perfect 3D Gel</td>\n",
       "      <td>ilmisaptiah</td>\n",
       "      <td>Dry, 30 - 34</td>\n",
       "      <td>ilmisaptiah doesn't recommend this product!</td>\n",
       "      <td>12 Jul 2020</td>\n",
       "      <td>enak sih di mukaku, yg tadinya kering jd lemba...</td>\n",
       "      <td>3</td>\n",
       "    </tr>\n",
       "    <tr>\n",
       "      <th>4</th>\n",
       "      <td>Perfect 3D Gel</td>\n",
       "      <td>alvinadin</td>\n",
       "      <td>Oily, 19 - 24</td>\n",
       "      <td>alvinadin recommends this product!</td>\n",
       "      <td>15 Jul 2020</td>\n",
       "      <td>SOLD OUT [PRELOVED] Halo aku preloved ini ya, ...</td>\n",
       "      <td>3</td>\n",
       "    </tr>\n",
       "    <tr>\n",
       "      <th>...</th>\n",
       "      <td>...</td>\n",
       "      <td>...</td>\n",
       "      <td>...</td>\n",
       "      <td>...</td>\n",
       "      <td>...</td>\n",
       "      <td>...</td>\n",
       "      <td>...</td>\n",
       "    </tr>\n",
       "    <tr>\n",
       "      <th>8641</th>\n",
       "      <td>Face Tonic</td>\n",
       "      <td>nurrav</td>\n",
       "      <td>Combination, 19 - 24</td>\n",
       "      <td>nurrav recommends this product!</td>\n",
       "      <td>24 Aug 2020</td>\n",
       "      <td>aku suka bgt sama toner ini.. aku juga selalu ...</td>\n",
       "      <td>5</td>\n",
       "    </tr>\n",
       "    <tr>\n",
       "      <th>8642</th>\n",
       "      <td>Face Tonic</td>\n",
       "      <td>ireneflorencia</td>\n",
       "      <td>Normal, 19 - 24</td>\n",
       "      <td>ireneflorencia recommends this product!</td>\n",
       "      <td>20 Aug 2020</td>\n",
       "      <td>Aku sempet pake ini pas jaman sd-smp dulu kare...</td>\n",
       "      <td>4</td>\n",
       "    </tr>\n",
       "    <tr>\n",
       "      <th>8643</th>\n",
       "      <td>Face Tonic</td>\n",
       "      <td>destinawahyuni</td>\n",
       "      <td>Combination, 19 - 24</td>\n",
       "      <td>destinawahyuni doesn't recommend this product!</td>\n",
       "      <td>18 Aug 2020</td>\n",
       "      <td>Honestly ini udah lama aku punya nya, tapi bar...</td>\n",
       "      <td>2</td>\n",
       "    </tr>\n",
       "    <tr>\n",
       "      <th>8644</th>\n",
       "      <td>Face Tonic</td>\n",
       "      <td>brigittac</td>\n",
       "      <td>Dry, 18 and Under</td>\n",
       "      <td>brigittac recommends this product!</td>\n",
       "      <td>13 Aug 2020</td>\n",
       "      <td>toner ter murah dan aman pula. cocok bgt buat ...</td>\n",
       "      <td>5</td>\n",
       "    </tr>\n",
       "    <tr>\n",
       "      <th>8645</th>\n",
       "      <td>Face Tonic</td>\n",
       "      <td>Farahnajela</td>\n",
       "      <td>Dry, 19 - 24</td>\n",
       "      <td>Farahnajela recommends this product!</td>\n",
       "      <td>09 Aug 2020</td>\n",
       "      <td>Face tonic viva ini ga ngaruh ke mukak yang an...</td>\n",
       "      <td>4</td>\n",
       "    </tr>\n",
       "  </tbody>\n",
       "</table>\n",
       "<p>8646 rows × 7 columns</p>\n",
       "</div>"
      ],
      "text/plain": [
       "             Product        UserName          SkinCond_Age  \\\n",
       "0     Perfect 3D Gel           MALA_               35 - 39   \n",
       "1     Perfect 3D Gel    Vitamaylinda       Normal, 19 - 24   \n",
       "2     Perfect 3D Gel        aishdwie  Combination, 19 - 24   \n",
       "3     Perfect 3D Gel     ilmisaptiah          Dry, 30 - 34   \n",
       "4     Perfect 3D Gel       alvinadin         Oily, 19 - 24   \n",
       "...              ...             ...                   ...   \n",
       "8641      Face Tonic          nurrav  Combination, 19 - 24   \n",
       "8642      Face Tonic  ireneflorencia       Normal, 19 - 24   \n",
       "8643      Face Tonic  destinawahyuni  Combination, 19 - 24   \n",
       "8644      Face Tonic       brigittac     Dry, 18 and Under   \n",
       "8645      Face Tonic     Farahnajela          Dry, 19 - 24   \n",
       "\n",
       "                                           Recommend     PostDate  \\\n",
       "0                     MALA_ recommends this product!  12 Jul 2020   \n",
       "1       Vitamaylinda doesn't recommend this product!  31 May 2020   \n",
       "2           aishdwie doesn't recommend this product!  30 Jul 2020   \n",
       "3        ilmisaptiah doesn't recommend this product!  12 Jul 2020   \n",
       "4                 alvinadin recommends this product!  15 Jul 2020   \n",
       "...                                              ...          ...   \n",
       "8641                 nurrav recommends this product!  24 Aug 2020   \n",
       "8642         ireneflorencia recommends this product!  20 Aug 2020   \n",
       "8643  destinawahyuni doesn't recommend this product!  18 Aug 2020   \n",
       "8644              brigittac recommends this product!  13 Aug 2020   \n",
       "8645            Farahnajela recommends this product!  09 Aug 2020   \n",
       "\n",
       "                                                 Review  Rating  \n",
       "0     Di aku beneran kerja. Melembabkan bgt. Tp gak ...       5  \n",
       "1     ga cocok bgttt bikin muka bruntusan dan lgsg m...       2  \n",
       "2     [SOLD]baru pertama kali nyoba dan beli karna l...       2  \n",
       "3     enak sih di mukaku, yg tadinya kering jd lemba...       3  \n",
       "4     SOLD OUT [PRELOVED] Halo aku preloved ini ya, ...       3  \n",
       "...                                                 ...     ...  \n",
       "8641  aku suka bgt sama toner ini.. aku juga selalu ...       5  \n",
       "8642  Aku sempet pake ini pas jaman sd-smp dulu kare...       4  \n",
       "8643  Honestly ini udah lama aku punya nya, tapi bar...       2  \n",
       "8644  toner ter murah dan aman pula. cocok bgt buat ...       5  \n",
       "8645  Face tonic viva ini ga ngaruh ke mukak yang an...       4  \n",
       "\n",
       "[8646 rows x 7 columns]"
      ]
     },
     "execution_count": 5,
     "metadata": {},
     "output_type": "execute_result"
    }
   ],
   "source": [
    "datamakeup"
   ]
  },
  {
   "cell_type": "markdown",
   "id": "679ff4e6",
   "metadata": {},
   "source": [
    "## Menampilkan isi dictionary dengan tipe objek "
   ]
  },
  {
   "cell_type": "code",
   "execution_count": 7,
   "id": "aeb70916",
   "metadata": {},
   "outputs": [
    {
     "data": {
      "text/plain": [
       "total record                                                    8646\n",
       "name attribute     Index(['Product', 'UserName', 'SkinCond_Age', ...\n",
       "total attribute                                                    6\n",
       "dtype: object"
      ]
     },
     "execution_count": 7,
     "metadata": {},
     "output_type": "execute_result"
    }
   ],
   "source": [
    "totalrecord =len(datamakeup)\n",
    "nameattribute = datamakeup.columns\n",
    "totalattribute = len(datamakeup.select_dtypes(include=['object']).columns)\n",
    "\n",
    "dictmkp = {\n",
    "    'total record' : totalrecord,\n",
    "    'name attribute' : nameattribute,\n",
    "    'total attribute' : totalattribute,\n",
    "}\n",
    "pd.Series(dictmkp)"
   ]
  },
  {
   "cell_type": "markdown",
   "id": "124614c0",
   "metadata": {},
   "source": [
    "## Menampilkan isi dictionary dengan tipe angka "
   ]
  },
  {
   "cell_type": "code",
   "execution_count": 10,
   "id": "f51f81c8",
   "metadata": {},
   "outputs": [
    {
     "data": {
      "text/plain": [
       "total attribute    1\n",
       "total NULL         2\n",
       "dtype: int64"
      ]
     },
     "execution_count": 10,
     "metadata": {},
     "output_type": "execute_result"
    }
   ],
   "source": [
    "totalattribute = len(datamakeup.select_dtypes(include=['int64']).columns)\n",
    "totalNULL = len(datamakeup.columns[datamakeup.isna().sum() > 0])\n",
    "dictint = {\n",
    "    'total attribute' : totalattribute,\n",
    "    'total NULL' : totalNULL,\n",
    "}\n",
    "pd.Series(dictint)"
   ]
  },
  {
   "cell_type": "markdown",
   "id": "4704de3c",
   "metadata": {},
   "source": [
    "## Menampilkan nilai rata-rata(MEAN)"
   ]
  },
  {
   "cell_type": "code",
   "execution_count": 11,
   "id": "99efc423",
   "metadata": {},
   "outputs": [
    {
     "data": {
      "text/plain": [
       "Rating    3.981032\n",
       "dtype: float64"
      ]
     },
     "execution_count": 11,
     "metadata": {},
     "output_type": "execute_result"
    }
   ],
   "source": [
    "datamakeup.select_dtypes(include=['int64']).mean()"
   ]
  },
  {
   "cell_type": "markdown",
   "id": "b81de780",
   "metadata": {},
   "source": [
    "## Menampilkan Nilai Standar Deviasi"
   ]
  },
  {
   "cell_type": "code",
   "execution_count": 12,
   "id": "ab002f83",
   "metadata": {},
   "outputs": [
    {
     "data": {
      "text/plain": [
       "Rating    1.083281\n",
       "dtype: float64"
      ]
     },
     "execution_count": 12,
     "metadata": {},
     "output_type": "execute_result"
    }
   ],
   "source": [
    "datamakeup.select_dtypes(include=['int64']).std()"
   ]
  },
  {
   "cell_type": "markdown",
   "id": "35dce0d0",
   "metadata": {},
   "source": [
    "## Menampilkan Nilai Minimum"
   ]
  },
  {
   "cell_type": "code",
   "execution_count": 13,
   "id": "8d443848",
   "metadata": {},
   "outputs": [
    {
     "data": {
      "text/plain": [
       "Rating    1\n",
       "dtype: int64"
      ]
     },
     "execution_count": 13,
     "metadata": {},
     "output_type": "execute_result"
    }
   ],
   "source": [
    "datamakeup.select_dtypes(include=['int64']).min()"
   ]
  },
  {
   "cell_type": "markdown",
   "id": "432514c9",
   "metadata": {},
   "source": [
    "## Menampilkan Nilai Maksimum"
   ]
  },
  {
   "cell_type": "code",
   "execution_count": 14,
   "id": "8ebedd30",
   "metadata": {},
   "outputs": [
    {
     "data": {
      "text/plain": [
       "Rating    5\n",
       "dtype: int64"
      ]
     },
     "execution_count": 14,
     "metadata": {},
     "output_type": "execute_result"
    }
   ],
   "source": [
    "datamakeup.select_dtypes(include=['int64']).max()"
   ]
  },
  {
   "cell_type": "markdown",
   "id": "f258e493",
   "metadata": {},
   "source": [
    "## Menampilkan nilai Q1, Q2, Q3"
   ]
  },
  {
   "cell_type": "code",
   "execution_count": 15,
   "id": "ecced5fb",
   "metadata": {},
   "outputs": [
    {
     "data": {
      "text/html": [
       "<div>\n",
       "<style scoped>\n",
       "    .dataframe tbody tr th:only-of-type {\n",
       "        vertical-align: middle;\n",
       "    }\n",
       "\n",
       "    .dataframe tbody tr th {\n",
       "        vertical-align: top;\n",
       "    }\n",
       "\n",
       "    .dataframe thead th {\n",
       "        text-align: right;\n",
       "    }\n",
       "</style>\n",
       "<table border=\"1\" class=\"dataframe\">\n",
       "  <thead>\n",
       "    <tr style=\"text-align: right;\">\n",
       "      <th></th>\n",
       "      <th>Rating</th>\n",
       "    </tr>\n",
       "  </thead>\n",
       "  <tbody>\n",
       "    <tr>\n",
       "      <th>0.25</th>\n",
       "      <td>3.0</td>\n",
       "    </tr>\n",
       "    <tr>\n",
       "      <th>0.50</th>\n",
       "      <td>4.0</td>\n",
       "    </tr>\n",
       "    <tr>\n",
       "      <th>0.75</th>\n",
       "      <td>5.0</td>\n",
       "    </tr>\n",
       "  </tbody>\n",
       "</table>\n",
       "</div>"
      ],
      "text/plain": [
       "      Rating\n",
       "0.25     3.0\n",
       "0.50     4.0\n",
       "0.75     5.0"
      ]
     },
     "execution_count": 15,
     "metadata": {},
     "output_type": "execute_result"
    }
   ],
   "source": [
    "datamakeup.select_dtypes(include=['int64']).quantile([0.25, 0.50, 0.75])"
   ]
  },
  {
   "cell_type": "markdown",
   "id": "4c153e66",
   "metadata": {},
   "source": [
    "## Menampilkan Nilai Mean, Standar Deviasi, MIN, MAX, Q1,Q2,Q3"
   ]
  },
  {
   "cell_type": "code",
   "execution_count": 16,
   "id": "7c7a329a",
   "metadata": {},
   "outputs": [
    {
     "data": {
      "text/html": [
       "<div>\n",
       "<style scoped>\n",
       "    .dataframe tbody tr th:only-of-type {\n",
       "        vertical-align: middle;\n",
       "    }\n",
       "\n",
       "    .dataframe tbody tr th {\n",
       "        vertical-align: top;\n",
       "    }\n",
       "\n",
       "    .dataframe thead th {\n",
       "        text-align: right;\n",
       "    }\n",
       "</style>\n",
       "<table border=\"1\" class=\"dataframe\">\n",
       "  <thead>\n",
       "    <tr style=\"text-align: right;\">\n",
       "      <th></th>\n",
       "      <th>Rating</th>\n",
       "    </tr>\n",
       "  </thead>\n",
       "  <tbody>\n",
       "    <tr>\n",
       "      <th>count</th>\n",
       "      <td>8646.000000</td>\n",
       "    </tr>\n",
       "    <tr>\n",
       "      <th>mean</th>\n",
       "      <td>3.981032</td>\n",
       "    </tr>\n",
       "    <tr>\n",
       "      <th>std</th>\n",
       "      <td>1.083281</td>\n",
       "    </tr>\n",
       "    <tr>\n",
       "      <th>min</th>\n",
       "      <td>1.000000</td>\n",
       "    </tr>\n",
       "    <tr>\n",
       "      <th>25%</th>\n",
       "      <td>3.000000</td>\n",
       "    </tr>\n",
       "    <tr>\n",
       "      <th>50%</th>\n",
       "      <td>4.000000</td>\n",
       "    </tr>\n",
       "    <tr>\n",
       "      <th>75%</th>\n",
       "      <td>5.000000</td>\n",
       "    </tr>\n",
       "    <tr>\n",
       "      <th>max</th>\n",
       "      <td>5.000000</td>\n",
       "    </tr>\n",
       "  </tbody>\n",
       "</table>\n",
       "</div>"
      ],
      "text/plain": [
       "            Rating\n",
       "count  8646.000000\n",
       "mean      3.981032\n",
       "std       1.083281\n",
       "min       1.000000\n",
       "25%       3.000000\n",
       "50%       4.000000\n",
       "75%       5.000000\n",
       "max       5.000000"
      ]
     },
     "execution_count": 16,
     "metadata": {},
     "output_type": "execute_result"
    }
   ],
   "source": [
    "datamakeup.describe()"
   ]
  },
  {
   "cell_type": "markdown",
   "id": "b346aaa3",
   "metadata": {},
   "source": [
    "## Menampilkan Nilai Korelasi"
   ]
  },
  {
   "cell_type": "code",
   "execution_count": 17,
   "id": "80e09749",
   "metadata": {},
   "outputs": [
    {
     "data": {
      "text/html": [
       "<div>\n",
       "<style scoped>\n",
       "    .dataframe tbody tr th:only-of-type {\n",
       "        vertical-align: middle;\n",
       "    }\n",
       "\n",
       "    .dataframe tbody tr th {\n",
       "        vertical-align: top;\n",
       "    }\n",
       "\n",
       "    .dataframe thead th {\n",
       "        text-align: right;\n",
       "    }\n",
       "</style>\n",
       "<table border=\"1\" class=\"dataframe\">\n",
       "  <thead>\n",
       "    <tr style=\"text-align: right;\">\n",
       "      <th></th>\n",
       "      <th>Rating</th>\n",
       "    </tr>\n",
       "  </thead>\n",
       "  <tbody>\n",
       "    <tr>\n",
       "      <th>Rating</th>\n",
       "      <td>1.0</td>\n",
       "    </tr>\n",
       "  </tbody>\n",
       "</table>\n",
       "</div>"
      ],
      "text/plain": [
       "        Rating\n",
       "Rating     1.0"
      ]
     },
     "execution_count": 17,
     "metadata": {},
     "output_type": "execute_result"
    }
   ],
   "source": [
    "datamakeup.select_dtypes(include=['int64']).corr()"
   ]
  },
  {
   "cell_type": "markdown",
   "id": "a2f83b49",
   "metadata": {},
   "source": [
    "## Mengubah Nilai"
   ]
  },
  {
   "cell_type": "code",
   "execution_count": 18,
   "id": "ce759780",
   "metadata": {},
   "outputs": [
    {
     "data": {
      "text/plain": [
       "dtype('float64')"
      ]
     },
     "execution_count": 18,
     "metadata": {},
     "output_type": "execute_result"
    }
   ],
   "source": [
    "datamakeup[\"Rating\"] = datamakeup[\"Rating\"].astype('float64', errors='ignore')\n",
    "datamakeup[\"Rating\"].dtypes"
   ]
  },
  {
   "cell_type": "markdown",
   "id": "a7d6bbed",
   "metadata": {},
   "source": [
    "##  Menampilkan setelah mengubah niai"
   ]
  },
  {
   "cell_type": "code",
   "execution_count": 19,
   "id": "28e28dcc",
   "metadata": {},
   "outputs": [
    {
     "data": {
      "text/plain": [
       "0      5.000\n",
       "1      2.000\n",
       "2      2.000\n",
       "3      3.000\n",
       "4      3.000\n",
       "        ... \n",
       "8641   5.000\n",
       "8642   4.000\n",
       "8643   2.000\n",
       "8644   5.000\n",
       "8645   4.000\n",
       "Name: Rating, Length: 8646, dtype: float64"
      ]
     },
     "execution_count": 19,
     "metadata": {},
     "output_type": "execute_result"
    }
   ],
   "source": [
    "pd.options.display.float_format = '{:.3f}'.format\n",
    "datamakeup.Rating.astype('float64')"
   ]
  },
  {
   "cell_type": "markdown",
   "id": "1f954441",
   "metadata": {},
   "source": [
    "## Menampilkan 10 record  pertama "
   ]
  },
  {
   "cell_type": "code",
   "execution_count": 23,
   "id": "723cbf22",
   "metadata": {},
   "outputs": [
    {
     "data": {
      "text/html": [
       "<div>\n",
       "<style scoped>\n",
       "    .dataframe tbody tr th:only-of-type {\n",
       "        vertical-align: middle;\n",
       "    }\n",
       "\n",
       "    .dataframe tbody tr th {\n",
       "        vertical-align: top;\n",
       "    }\n",
       "\n",
       "    .dataframe thead th {\n",
       "        text-align: right;\n",
       "    }\n",
       "</style>\n",
       "<table border=\"1\" class=\"dataframe\">\n",
       "  <thead>\n",
       "    <tr style=\"text-align: right;\">\n",
       "      <th></th>\n",
       "      <th>Product</th>\n",
       "      <th>UserName</th>\n",
       "      <th>SkinCond_Age</th>\n",
       "      <th>Recommend</th>\n",
       "      <th>PostDate</th>\n",
       "      <th>Review</th>\n",
       "      <th>Rating</th>\n",
       "    </tr>\n",
       "  </thead>\n",
       "  <tbody>\n",
       "    <tr>\n",
       "      <th>0</th>\n",
       "      <td>Perfect 3D Gel</td>\n",
       "      <td>MALA_</td>\n",
       "      <td>35 - 39</td>\n",
       "      <td>MALA_ recommends this product!</td>\n",
       "      <td>12 Jul 2020</td>\n",
       "      <td>Di aku beneran kerja. Melembabkan bgt. Tp gak ...</td>\n",
       "      <td>5.000</td>\n",
       "    </tr>\n",
       "    <tr>\n",
       "      <th>1</th>\n",
       "      <td>Perfect 3D Gel</td>\n",
       "      <td>Vitamaylinda</td>\n",
       "      <td>Normal, 19 - 24</td>\n",
       "      <td>Vitamaylinda doesn't recommend this product!</td>\n",
       "      <td>31 May 2020</td>\n",
       "      <td>ga cocok bgttt bikin muka bruntusan dan lgsg m...</td>\n",
       "      <td>2.000</td>\n",
       "    </tr>\n",
       "    <tr>\n",
       "      <th>2</th>\n",
       "      <td>Perfect 3D Gel</td>\n",
       "      <td>aishdwie</td>\n",
       "      <td>Combination, 19 - 24</td>\n",
       "      <td>aishdwie doesn't recommend this product!</td>\n",
       "      <td>30 Jul 2020</td>\n",
       "      <td>[SOLD]baru pertama kali nyoba dan beli karna l...</td>\n",
       "      <td>2.000</td>\n",
       "    </tr>\n",
       "    <tr>\n",
       "      <th>3</th>\n",
       "      <td>Perfect 3D Gel</td>\n",
       "      <td>ilmisaptiah</td>\n",
       "      <td>Dry, 30 - 34</td>\n",
       "      <td>ilmisaptiah doesn't recommend this product!</td>\n",
       "      <td>12 Jul 2020</td>\n",
       "      <td>enak sih di mukaku, yg tadinya kering jd lemba...</td>\n",
       "      <td>3.000</td>\n",
       "    </tr>\n",
       "    <tr>\n",
       "      <th>4</th>\n",
       "      <td>Perfect 3D Gel</td>\n",
       "      <td>alvinadin</td>\n",
       "      <td>Oily, 19 - 24</td>\n",
       "      <td>alvinadin recommends this product!</td>\n",
       "      <td>15 Jul 2020</td>\n",
       "      <td>SOLD OUT [PRELOVED] Halo aku preloved ini ya, ...</td>\n",
       "      <td>3.000</td>\n",
       "    </tr>\n",
       "    <tr>\n",
       "      <th>...</th>\n",
       "      <td>...</td>\n",
       "      <td>...</td>\n",
       "      <td>...</td>\n",
       "      <td>...</td>\n",
       "      <td>...</td>\n",
       "      <td>...</td>\n",
       "      <td>...</td>\n",
       "    </tr>\n",
       "    <tr>\n",
       "      <th>8641</th>\n",
       "      <td>Face Tonic</td>\n",
       "      <td>nurrav</td>\n",
       "      <td>Combination, 19 - 24</td>\n",
       "      <td>nurrav recommends this product!</td>\n",
       "      <td>24 Aug 2020</td>\n",
       "      <td>aku suka bgt sama toner ini.. aku juga selalu ...</td>\n",
       "      <td>5.000</td>\n",
       "    </tr>\n",
       "    <tr>\n",
       "      <th>8642</th>\n",
       "      <td>Face Tonic</td>\n",
       "      <td>ireneflorencia</td>\n",
       "      <td>Normal, 19 - 24</td>\n",
       "      <td>ireneflorencia recommends this product!</td>\n",
       "      <td>20 Aug 2020</td>\n",
       "      <td>Aku sempet pake ini pas jaman sd-smp dulu kare...</td>\n",
       "      <td>4.000</td>\n",
       "    </tr>\n",
       "    <tr>\n",
       "      <th>8643</th>\n",
       "      <td>Face Tonic</td>\n",
       "      <td>destinawahyuni</td>\n",
       "      <td>Combination, 19 - 24</td>\n",
       "      <td>destinawahyuni doesn't recommend this product!</td>\n",
       "      <td>18 Aug 2020</td>\n",
       "      <td>Honestly ini udah lama aku punya nya, tapi bar...</td>\n",
       "      <td>2.000</td>\n",
       "    </tr>\n",
       "    <tr>\n",
       "      <th>8644</th>\n",
       "      <td>Face Tonic</td>\n",
       "      <td>brigittac</td>\n",
       "      <td>Dry, 18 and Under</td>\n",
       "      <td>brigittac recommends this product!</td>\n",
       "      <td>13 Aug 2020</td>\n",
       "      <td>toner ter murah dan aman pula. cocok bgt buat ...</td>\n",
       "      <td>5.000</td>\n",
       "    </tr>\n",
       "    <tr>\n",
       "      <th>8645</th>\n",
       "      <td>Face Tonic</td>\n",
       "      <td>Farahnajela</td>\n",
       "      <td>Dry, 19 - 24</td>\n",
       "      <td>Farahnajela recommends this product!</td>\n",
       "      <td>09 Aug 2020</td>\n",
       "      <td>Face tonic viva ini ga ngaruh ke mukak yang an...</td>\n",
       "      <td>4.000</td>\n",
       "    </tr>\n",
       "  </tbody>\n",
       "</table>\n",
       "<p>8646 rows × 7 columns</p>\n",
       "</div>"
      ],
      "text/plain": [
       "             Product        UserName          SkinCond_Age  \\\n",
       "0     Perfect 3D Gel           MALA_               35 - 39   \n",
       "1     Perfect 3D Gel    Vitamaylinda       Normal, 19 - 24   \n",
       "2     Perfect 3D Gel        aishdwie  Combination, 19 - 24   \n",
       "3     Perfect 3D Gel     ilmisaptiah          Dry, 30 - 34   \n",
       "4     Perfect 3D Gel       alvinadin         Oily, 19 - 24   \n",
       "...              ...             ...                   ...   \n",
       "8641      Face Tonic          nurrav  Combination, 19 - 24   \n",
       "8642      Face Tonic  ireneflorencia       Normal, 19 - 24   \n",
       "8643      Face Tonic  destinawahyuni  Combination, 19 - 24   \n",
       "8644      Face Tonic       brigittac     Dry, 18 and Under   \n",
       "8645      Face Tonic     Farahnajela          Dry, 19 - 24   \n",
       "\n",
       "                                           Recommend     PostDate  \\\n",
       "0                     MALA_ recommends this product!  12 Jul 2020   \n",
       "1       Vitamaylinda doesn't recommend this product!  31 May 2020   \n",
       "2           aishdwie doesn't recommend this product!  30 Jul 2020   \n",
       "3        ilmisaptiah doesn't recommend this product!  12 Jul 2020   \n",
       "4                 alvinadin recommends this product!  15 Jul 2020   \n",
       "...                                              ...          ...   \n",
       "8641                 nurrav recommends this product!  24 Aug 2020   \n",
       "8642         ireneflorencia recommends this product!  20 Aug 2020   \n",
       "8643  destinawahyuni doesn't recommend this product!  18 Aug 2020   \n",
       "8644              brigittac recommends this product!  13 Aug 2020   \n",
       "8645            Farahnajela recommends this product!  09 Aug 2020   \n",
       "\n",
       "                                                 Review  Rating  \n",
       "0     Di aku beneran kerja. Melembabkan bgt. Tp gak ...   5.000  \n",
       "1     ga cocok bgttt bikin muka bruntusan dan lgsg m...   2.000  \n",
       "2     [SOLD]baru pertama kali nyoba dan beli karna l...   2.000  \n",
       "3     enak sih di mukaku, yg tadinya kering jd lemba...   3.000  \n",
       "4     SOLD OUT [PRELOVED] Halo aku preloved ini ya, ...   3.000  \n",
       "...                                                 ...     ...  \n",
       "8641  aku suka bgt sama toner ini.. aku juga selalu ...   5.000  \n",
       "8642  Aku sempet pake ini pas jaman sd-smp dulu kare...   4.000  \n",
       "8643  Honestly ini udah lama aku punya nya, tapi bar...   2.000  \n",
       "8644  toner ter murah dan aman pula. cocok bgt buat ...   5.000  \n",
       "8645  Face tonic viva ini ga ngaruh ke mukak yang an...   4.000  \n",
       "\n",
       "[8646 rows x 7 columns]"
      ]
     },
     "execution_count": 23,
     "metadata": {},
     "output_type": "execute_result"
    }
   ],
   "source": [
    "datamakeup"
   ]
  },
  {
   "cell_type": "code",
   "execution_count": 26,
   "id": "1ee9761f",
   "metadata": {},
   "outputs": [
    {
     "data": {
      "text/html": [
       "<div>\n",
       "<style scoped>\n",
       "    .dataframe tbody tr th:only-of-type {\n",
       "        vertical-align: middle;\n",
       "    }\n",
       "\n",
       "    .dataframe tbody tr th {\n",
       "        vertical-align: top;\n",
       "    }\n",
       "\n",
       "    .dataframe thead th {\n",
       "        text-align: right;\n",
       "    }\n",
       "</style>\n",
       "<table border=\"1\" class=\"dataframe\">\n",
       "  <thead>\n",
       "    <tr style=\"text-align: right;\">\n",
       "      <th></th>\n",
       "    </tr>\n",
       "  </thead>\n",
       "  <tbody>\n",
       "    <tr>\n",
       "      <th>0</th>\n",
       "    </tr>\n",
       "    <tr>\n",
       "      <th>1</th>\n",
       "    </tr>\n",
       "    <tr>\n",
       "      <th>2</th>\n",
       "    </tr>\n",
       "    <tr>\n",
       "      <th>3</th>\n",
       "    </tr>\n",
       "    <tr>\n",
       "      <th>4</th>\n",
       "    </tr>\n",
       "    <tr>\n",
       "      <th>5</th>\n",
       "    </tr>\n",
       "    <tr>\n",
       "      <th>6</th>\n",
       "    </tr>\n",
       "    <tr>\n",
       "      <th>7</th>\n",
       "    </tr>\n",
       "    <tr>\n",
       "      <th>8</th>\n",
       "    </tr>\n",
       "    <tr>\n",
       "      <th>9</th>\n",
       "    </tr>\n",
       "  </tbody>\n",
       "</table>\n",
       "</div>"
      ],
      "text/plain": [
       "Empty DataFrame\n",
       "Columns: []\n",
       "Index: [0, 1, 2, 3, 4, 5, 6, 7, 8, 9]"
      ]
     },
     "execution_count": 26,
     "metadata": {},
     "output_type": "execute_result"
    }
   ],
   "source": [
    "datamakeup.select_dtypes(include=['int64']).head(10)"
   ]
  },
  {
   "cell_type": "code",
   "execution_count": null,
   "id": "7cb45838",
   "metadata": {},
   "outputs": [],
   "source": []
  }
 ],
 "metadata": {
  "kernelspec": {
   "display_name": "Python 3 (ipykernel)",
   "language": "python",
   "name": "python3"
  },
  "language_info": {
   "codemirror_mode": {
    "name": "ipython",
    "version": 3
   },
   "file_extension": ".py",
   "mimetype": "text/x-python",
   "name": "python",
   "nbconvert_exporter": "python",
   "pygments_lexer": "ipython3",
   "version": "3.8.10"
  }
 },
 "nbformat": 4,
 "nbformat_minor": 5
}
